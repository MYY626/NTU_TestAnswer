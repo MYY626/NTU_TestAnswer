{
 "cells": [
  {
   "cell_type": "markdown",
   "id": "144a60e8",
   "metadata": {},
   "source": [
    "## 8.1\n",
    "Four equations for the rate of changes of the four species, E, S, ES, and P  \n",
    "$$\\frac{d[E]}{dt}=k_2[ES] + k_3[ES]-k_1[E][S]$$  \n",
    "$$\\frac{d[S]}{dt}=k_2[ES] - k_1[E][S]$$    \n",
    "$$\\frac{d[ES]}{dt}=k_1[E][S] - k_2[ES]-k_3[ES]$$   \n",
    "$$\\frac{d[P]}{dt}=k_3[ES]$$"
   ]
  },
  {
   "cell_type": "markdown",
   "id": "9a5425a7",
   "metadata": {},
   "source": [
    "## 8.2"
   ]
  },
  {
   "cell_type": "markdown",
   "id": "ed2615d3",
   "metadata": {},
   "source": [
    "Put in the values and simplify the equations as follows:  \n",
    "1 $$\\frac{d[E]}{dt}=750[ES] - 1000[E]$$   \n",
    "2 $$\\frac{d[S]}{dt}=600[ES] - 100[S]$$    \n",
    "3 $$\\frac{d[ES]}{dt}=1000 - 750[ES]$$    \n",
    "4 $$\\frac{d[P]}{dt}=150[ES]$$    "
   ]
  },
  {
   "cell_type": "code",
   "execution_count": 76,
   "id": "4433f2c3",
   "metadata": {},
   "outputs": [],
   "source": [
    "# Finds value of y for a given x using step size h\n",
    "# and initial value y0 at x0.\n",
    "\n",
    "def rungeKutta(x0, y0, x, h):\n",
    "    # Count number of iterations using step size or\n",
    "    # step height h\n",
    "    n = (int)((x - x0)/h)\n",
    "    # Iterate for number of iterations\n",
    "    y = y0\n",
    "    for i in range(1, n + 1):\n",
    "        \"Apply Runge Kutta Formulas to find next value of y\"\n",
    "        k1 = h * dydx(x0, y)\n",
    "        k2 = h * dydx(x0 + 0.5 * h, y + 0.5 * k1)\n",
    "        k3 = h * dydx(x0 + 0.5 * h, y + 0.5 * k2)\n",
    "        k4 = h * dydx(x0 + h, y + k3)\n",
    " \n",
    "        # Update next value of y\n",
    "        y = y + (1.0 / 6.0)*(k1 + 2 * k2 + 2 * k3 + k4)\n",
    " \n",
    "        # Update next value of x\n",
    "        x0 = x0 + h\n",
    "    return y"
   ]
  },
  {
   "cell_type": "markdown",
   "id": "4f39a005",
   "metadata": {},
   "source": [
    "In this case, x0 is the start time, which is 0.    \n",
    "y0 refers to the starting concentration of the substance.  \n",
    "x denotes the time point at which the reaction has been carried out and h refers to the interval of time.    \n",
    "Setting x to 0.01 and h to 0.001 based on the data given in the question, then y is obtained when the time is 0.01"
   ]
  },
  {
   "cell_type": "code",
   "execution_count": 77,
   "id": "ae34fad6",
   "metadata": {},
   "outputs": [
    {
     "name": "stdout",
     "output_type": "stream",
     "text": [
      "The concentration of ES at 0.01min is:  1.3325680336869636\n"
     ]
    }
   ],
   "source": [
    "#solve the d[ES]/dt equation first\n",
    "def dydx(x, y):\n",
    "    return 1000-750*y\n",
    "\n",
    "x0 = 0\n",
    "y0 = 0\n",
    "x = 0.01\n",
    "h = 0.001\n",
    "\n",
    "concES = rungeKutta(x0, y0, x, h)\n",
    "print('The concentration of ES at 0.01min is: ', concES)"
   ]
  },
  {
   "cell_type": "markdown",
   "id": "77524a85",
   "metadata": {},
   "source": [
    "Substituting conc into the rest of the equations yields the following:\n",
    "$$\\frac{d[E]}{dt}=750[ES] - 1000[E] = 999.4260 - 1000[E]$$   \n",
    "$$\\frac{d[S]}{dt}=600[ES] - 100[S] = 799.5408 - 100[S]$$   \n",
    "$$\\frac{d[P]}{dt}=150[ES] = 199.8852$$   "
   ]
  },
  {
   "cell_type": "code",
   "execution_count": 78,
   "id": "fb0e699f",
   "metadata": {},
   "outputs": [
    {
     "name": "stdout",
     "output_type": "stream",
     "text": [
      "The concentration of E at 0.01min is:  0.9994260315663648\n"
     ]
    }
   ],
   "source": [
    "#solve the d[E]/t equation\n",
    "def dydx(x, y):\n",
    "    return 999.4260 - 1000*y\n",
    "\n",
    "x0 = 0\n",
    "y0 = 1\n",
    "x = 0.01\n",
    "h = 0.001\n",
    "\n",
    "concE = rungeKutta(x0, y0, x, h)\n",
    "print('The concentration of E at 0.01min is: ', concE)"
   ]
  },
  {
   "cell_type": "code",
   "execution_count": 79,
   "id": "16a1ae1d",
   "metadata": {},
   "outputs": [
    {
     "name": "stdout",
     "output_type": "stream",
     "text": [
      "The concentration of E at 0.01min is:  8.732856852749098\n"
     ]
    }
   ],
   "source": [
    "#solve the d[S]/t equation\n",
    "def dydx(x, y):\n",
    "    return 799.5408 - 100*y\n",
    "\n",
    "x0 = 0\n",
    "y0 = 10\n",
    "x = 0.01\n",
    "h = 0.001\n",
    "\n",
    "concS = rungeKutta(x0, y0, x, h)\n",
    "print('The concentration of E at 0.01min is: ', concS)"
   ]
  },
  {
   "cell_type": "code",
   "execution_count": 80,
   "id": "3825699c",
   "metadata": {},
   "outputs": [
    {
     "name": "stdout",
     "output_type": "stream",
     "text": [
      "The concentration of E at 0.01min is:  1.998852\n"
     ]
    }
   ],
   "source": [
    "#solve the d[P]/t equation\n",
    "def dydx(x, y):\n",
    "    return 199.8852\n",
    "\n",
    "x0 = 0\n",
    "y0 = 0\n",
    "x = 0.01\n",
    "h = 0.001\n",
    "\n",
    "concP = rungeKutta(x0, y0, x, h)\n",
    "print('The concentration of E at 0.01min is: ', concP)"
   ]
  },
  {
   "cell_type": "markdown",
   "id": "028052ef",
   "metadata": {},
   "source": [
    "## 8.3"
   ]
  },
  {
   "cell_type": "markdown",
   "id": "34b6fefa",
   "metadata": {},
   "source": [
    "According to the rate expression in the Michaelis-Menten equation, V, the rate of change of the product P and the concentration of the substrate S have a relation:    \n",
    "$$r_p = \\frac{dC_s}{dt}$$"
   ]
  },
  {
   "cell_type": "code",
   "execution_count": null,
   "id": "dca2fc73",
   "metadata": {},
   "outputs": [],
   "source": []
  }
 ],
 "metadata": {
  "kernelspec": {
   "display_name": "Python 3",
   "language": "python",
   "name": "python3"
  },
  "language_info": {
   "codemirror_mode": {
    "name": "ipython",
    "version": 3
   },
   "file_extension": ".py",
   "mimetype": "text/x-python",
   "name": "python",
   "nbconvert_exporter": "python",
   "pygments_lexer": "ipython3",
   "version": "3.8.8"
  }
 },
 "nbformat": 4,
 "nbformat_minor": 5
}
